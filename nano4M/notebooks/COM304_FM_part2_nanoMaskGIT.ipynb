{
 "cells": [
  {
   "cell_type": "markdown",
   "id": "4bf7f397-467f-4f24-a18f-4143eca2c3ed",
   "metadata": {
    "tags": []
   },
   "source": [
    "# COM-304 Foundation Models: Part 2 - nanoMaskGIT\n",
    "\n",
    "#### Goals:\n",
    "\n",
    "The goal of this second part is to familiarize yourself with the following topics:\n",
    "- Bi-directional attention\n",
    "- Encoder-only Transformer (e.g. BERT, MaskGIT, ...) models\n",
    "- Basic masking schemes\n",
    "- Masked modelling on text and images\n",
    "- Masked inference\n",
    "\n",
    "This notebook should give you a solid foundation of working with masked image models.\n",
    "If you want to know more about these topics, please see some of the reading material in the lectures and at the bottom of this notebook, and feel free to ask the TAs.\n",
    "\n",
    "\n",
    "#### Instructions:\n",
    "\n",
    "- Your task is to fill in the missing code in the acompagning codebase (highlighted by `???`), run the training loops and evaluate the trained models with this notebook.\n",
    "- Submit the notebook with all cells executed, as well as `nanofm/models/maskgit.py`.\n",
    "- The notebooks are individual homework."
   ]
  },
  {
   "cell_type": "markdown",
   "id": "7c7ba70f-25dd-4bdb-953b-d5e4547569ae",
   "metadata": {
    "tags": []
   },
   "source": [
    "---\n",
    "\n",
    "## 1 Setup\n",
    "\n",
    "Please follow the setup detailed in the first notebook."
   ]
  },
  {
   "cell_type": "markdown",
   "id": "e3365eba-118f-4f63-96fe-1c9904fbc050",
   "metadata": {},
   "source": [
    "### 1.1 Imports"
   ]
  },
  {
   "cell_type": "code",
   "execution_count": 1,
   "id": "38061c15-c053-431a-9265-536b778fe5ca",
   "metadata": {
    "execution": {
     "iopub.execute_input": "2025-04-08T12:02:45.693647Z",
     "iopub.status.busy": "2025-04-08T12:02:45.693490Z",
     "iopub.status.idle": "2025-04-08T12:02:45.738400Z",
     "shell.execute_reply": "2025-04-08T12:02:45.737786Z"
    }
   },
   "outputs": [],
   "source": [
    "# Switch path to root of project\n",
    "import os\n",
    "os.environ[\"CUDA_VISIBLE_DEVICES\"]=\"0\"\n",
    "current_folder = globals()['_dh'][0]\n",
    "os.chdir(os.path.dirname(os.path.abspath(current_folder)))\n",
    "\n",
    "%load_ext autoreload\n",
    "%autoreload 2"
   ]
  },
  {
   "cell_type": "code",
   "execution_count": 2,
   "id": "ef049477-3435-4543-bef7-acfaea93c2bd",
   "metadata": {
    "execution": {
     "iopub.execute_input": "2025-04-08T12:02:45.740775Z",
     "iopub.status.busy": "2025-04-08T12:02:45.740166Z",
     "iopub.status.idle": "2025-04-08T12:03:57.176414Z",
     "shell.execute_reply": "2025-04-08T12:03:57.175927Z"
    }
   },
   "outputs": [
    {
     "name": "stderr",
     "output_type": "stream",
     "text": [
      "/work/com-304/new_environment/anaconda3/envs/nanofm/lib/python3.10/site-packages/tqdm/auto.py:21: TqdmWarning: IProgress not found. Please update jupyter and ipywidgets. See https://ipywidgets.readthedocs.io/en/stable/user_install.html\n",
      "  from .autonotebook import tqdm as notebook_tqdm\n"
     ]
    },
    {
     "data": {
      "text/plain": [
       "<torch.autograd.grad_mode.set_grad_enabled at 0x7fa9e72ef790>"
      ]
     },
     "execution_count": 2,
     "metadata": {},
     "output_type": "execute_result"
    }
   ],
   "source": [
    "import re\n",
    "import torch\n",
    "from einops import rearrange\n",
    "from transformers import AutoTokenizer\n",
    "from tokenizers.processors import TemplateProcessing\n",
    "import numpy as np\n",
    "import matplotlib.pyplot as plt\n",
    "from mpl_toolkits.axes_grid1 import ImageGrid\n",
    "from matplotlib.colors import LinearSegmentedColormap\n",
    "\n",
    "from nanofm.utils.checkpoint import load_model_from_safetensors\n",
    "from nanofm.data.vision.tokenized_mnist import create_tokenized_mnist_dataloader, detokenize_MNIST\n",
    "\n",
    "os.environ[\"TOKENIZERS_PARALLELISM\"] = \"false\"\n",
    "\n",
    "# The flag below controls whether to allow TF32 on matmul. This flag defaults to False in PyTorch 1.12 and later.\n",
    "torch.backends.cuda.matmul.allow_tf32 = True\n",
    "# The flag below controls whether to allow TF32 on cuDNN. This flag defaults to True.\n",
    "torch.backends.cudnn.allow_tf32 = True\n",
    "\n",
    "device = 'cuda' if torch.cuda.is_available() else 'cpu'\n",
    "torch.set_grad_enabled(False)"
   ]
  },
  {
   "cell_type": "markdown",
   "id": "32547ef7-1554-4d80-80fa-bf0b3487dca9",
   "metadata": {
    "tags": []
   },
   "source": [
    "---\n",
    "\n",
    "## 2 Training nanoMaskGIT on MNIST for image generation\n",
    "\n",
    "In this exercise, we will implement a simplified masked generative model, similar to [MaskGIT](https://masked-generative-image-transformer.github.io/). \n",
    "As with our nanoGPT implementation, we will train it on MNIST for image generation, but will also later explore using it for text generation on TinyStories!\n",
    "\n",
    "#### Masked modeling - Training objective\n",
    "\n",
    "In contrast to autoregressive models that are trained to predict the next token given the context so far, masked generative models like MaskGIT are trained to predict any (masked-out) token given any other (non-masked) subset of tokens.\n",
    "Consider the following example: \n",
    "\n",
    "**Original Sentence:**  \n",
    "```\n",
    "\"The quick brown fox jumps over the lazy dog.\"\n",
    "```\n",
    "\n",
    "**Masked Training Example (cloze):**  \n",
    "```\n",
    "\"The quick [MASK] fox jumps over the [MASK] dog.\"\n",
    "```\n",
    "\n",
    "**Goal:**  \n",
    "The model must predict:\n",
    "- `[MASK]` → \"brown\"\n",
    "- `[MASK]` → \"lazy\"\n",
    "\n",
    "By repeatedly training the model to predict these randomly masked tokens across a large dataset, MaskGIT learns how tokens fit contextually within sequences.\n",
    "\n",
    "\n",
    "#### Masked modeling - Inference\n",
    "\n",
    "\n",
    "By training a model with randomized masking ratios, we are able to use it to progressively \"unmask\" a fully masked initial sequence.\n",
    "At inference, the model starts with all tokens masked and progressively unmasks tokens in multiple steps. Let's show an inference example generating two (`k=2`) tokens at a time.\n",
    "\n",
    "**Initial Masked Sequence:**  \n",
    "```\n",
    "\"[MASK] [MASK] [MASK] [MASK] [MASK] [MASK] [MASK] [MASK] [MASK]\"\n",
    "```\n",
    "\n",
    "**Step-by-step Generation (k=2 tokens at a time):**  \n",
    "\n",
    "- **Step 1:**  \n",
    "```\n",
    "\"The [MASK] [MASK] [MASK] [MASK] [MASK] [MASK] [MASK] dog.\"\n",
    "```\n",
    "\n",
    "- **Step 2:** (unmask next 2 most confident tokens)  \n",
    "```\n",
    "\"The quick [MASK] [MASK] [MASK] [MASK] [MASK] lazy dog.\"\n",
    "```\n",
    "\n",
    "- **Step 3:** (unmask next 2 tokens)  \n",
    "```\n",
    "\"The quick [MASK] fox [MASK] [MASK] [MASK] lazy dog.\"\n",
    "```\n",
    "\n",
    "- **Step 4:** (unmask next 2 tokens)  \n",
    "```\n",
    "\"The quick brown fox jumps [MASK] the lazy dog.\"\n",
    "```\n",
    "\n",
    "- **Step 5 (Final):** (all tokens unmasked)  \n",
    "```\n",
    "\"The quick brown fox jumps over the lazy dog.\"\n",
    "```\n",
    "\n",
    "At each inference step, MaskGIT predicts all masked-out tokens simultaneously (in parallel), and, based on the predicted probabilites, selects the `k` (here `k=2`) most likely tokens. \n",
    "After deciding on which tokens to use, we sample a token index from the predicted probability distribution for each token, and add the tokens to the sequence. \n",
    "This, now slightly less masked, sequence is then used as the input for the next round, where again, the `k=2` most confident tokens are chosen of the remaining masked targets.\n",
    "\n",
    "A crucial difference of masked models to next-token prediction is that at each inference step we can freely choose the number of tokens `k` to simultaneously decode. \n",
    "Depending on the choice of `k`, this can speed up inference significantly, at little cost to generation performance. \n",
    "For example, see the comparison between raster-scan autoregressive, and masked generation below.\n",
    "Each frame of the gif is one generation step. Autoregressive generation predicts each token one-by-one, while masked models may predict them in parallel.\n",
    "\n",
    "![adsf](https://masked-generative-image-transformer.github.io/imgs/sampling.gif)"
   ]
  },
  {
   "cell_type": "markdown",
   "id": "943ec3ac-cbc1-4ace-808f-a0ed9b88ae6d",
   "metadata": {
    "tags": []
   },
   "source": [
    "### 2.1 Overview and tasks\n",
    "\n",
    "To implement nanoMaskGIT, we ask you to complete the subsections below by directly filling in the missing lines in the code base."
   ]
  },
  {
   "cell_type": "markdown",
   "id": "fc0a0338-c83f-4b7f-b4bf-52e15babc394",
   "metadata": {},
   "source": [
    "#### 2.1.1 Initialize nanoMaskGIT (5 points)\n",
    "\n",
    "We will reuse the exact same Transformer layers and trunk built last week for the nanoGPT model, but this time we will use it to assemble a MaskGIT-like model in `nanofm.models.maskgit.MaskGIT`.\n",
    "It consists of a few operations executed in series. Initialize the following modules in the constructor:\n",
    "1. The discrete input tokens are embedded with an `nn.Embedding` layer. Initialize `self.input_embedding` accordingly, taking into account the vocabulary size.\n",
    "2. On top of that, we add learnable positional embeddings. Initialize `self.positional_embedding` as an `nn.Parameter` containing a randomly initialized Tensor of shape (`max_seq_len`, `dim`).\n",
    "3. To indicate masked-out tokens and provide placeholders to write the targets, initialize `self.mask_token` as an `nn.Parameter` containing a randomly initialized Tensor of shape (`dim`).\n",
    "4. This then gets passed to a Transformer trunk. Initialize `self.trunk` with the trunk you implemented last week.\n",
    "5. Finally we project the trunk output through a LayerNorm and output projection that maps the elements from the Transformer dimension to the vocabulary size (as a one-hot vector per token). Initialize `self.out_norm` and `self.to_logits`. The bias term for `self.to_logits` should always be set to False."
   ]
  },
  {
   "cell_type": "markdown",
   "id": "ea932812-cd3e-4cd6-8d0d-b5ffddd38917",
   "metadata": {},
   "source": [
    "#### 2.1.2 Implement the forward function and loss (10 points)\n",
    "\n",
    "Next, let's implement the `forward_model` function:\n",
    "1. Pass the input tokens through the embedding. \n",
    "2. Given the `mask`, replace these embeddings by the learned `self.mask_token`, wherever `mask == True`.\n",
    "3. Add the positional embedding, pass it through the Transformer trunk, output normalization, and output projection.\n",
    "4. When calling the Transformer trunk, no attention mask needs to be specified. This model performs full self-attention between all masked and non-masked tokens.\n",
    "\n",
    "Finally, we need to compute the cross-entropy loss between the logits and the ground-truth targets. Please complete the `compute_ce_loss` function accordingly, and take into account the ignore_index token. We do not want to compute a loss on non-masked tokens that we pass as input; we only compute it on masked-out tokens that we predict."
   ]
  },
  {
   "cell_type": "markdown",
   "id": "c1ab6ee5-36ad-4b03-b053-1188750696fc",
   "metadata": {},
   "source": [
    "#### 2.1.3 Implement random masking (15 points)\n",
    "\n",
    "As used in the `forward` function, during training we want to randomize the `mask` you just applied to the inputs. \n",
    "For that, please complete the `generate_random_mask` function that should return a random mask where True = masked-out and False = not masked.\n",
    "Each sample in the batch should randomly mask out between 1 and L tokens, where L is the sequence length. \n",
    "When L tokens are masked-out, it means there is no input and all tokens are predicted.\n",
    "When only 1 token is masked-out, it means that all but one token are given as input, and only one is predicted. \n",
    "You should be able to see why we have to have at least one token masked.\n",
    "\n",
    "The returned mask tensor should be of type `torch.BoolTensor`, moved to the same device (GPU) as `seq`, and be of shape (B, L).\n",
    "Note that both the number of mask tokens, as well as the placement of the masks should be sampled completely uniformly at random, for every sample in the batch individually.\n",
    "That means you should not apply and broadcast the same mask to the entire batch."
   ]
  },
  {
   "cell_type": "markdown",
   "id": "9533221b-9754-4f89-b8d6-a8ddc105bce7",
   "metadata": {
    "jp-MarkdownHeadingCollapsed": true,
    "tags": []
   },
   "source": [
    "#### 2.1.4 MaskGIT schedule and generation function (20 points)\n",
    "\n",
    "Now let's implement the generation function. We do that in two steps:\n",
    "\n",
    "First, let's implement a so-called generation schedule in `get_maskgit_schedule`. \n",
    "Its task is to give us a list of number of tokens to unmask at every prediction step. \n",
    "It's quite common to make this a cosine schedule, i.e. where the tokens are unmasked slowly at the beginning, then in the middle many tokens are predicted at once, and finally in the end we ramp down again.\n",
    "Here we will implement a much simpler constant schedule, where the number of unmasked tokens per step is constant.\n",
    "For example, if total_tokens = 17 and num_steps = 8, then the schedule should be: [2, 2, 2, 2, 2, 2, 2, 3]. \n",
    "If the total number of tokens is not divisible by the number of steps, we simply add the remainder to the last step.\n",
    "The `schedule` should be a list of integers of length `num_steps`, where each integer represents the number of tokens to unmask at that step. \n",
    "The sum of the integers in `schedule` should equal `total_tokens`.\n",
    "\n",
    "With the simple schedule implemented, let's use it in the `generate` function. Generation is performed in a loop in the following steps:\n",
    "1. Given the sequence and mask so far, simply pass them through the network to get the logits.\n",
    "2. Then, select the subset of logits that we actually want to predict, i.e. the masked-out tokens.\n",
    "3. Over all these predicted tokens, we only want to keep the most \"confident\" predictions. We select for these by computing the maximum logit value for each token as a proxy. The higher the maximum logit is for a given token, the more \"confident\" it is in its prediction.\n",
    "4. Now, let's select the top-k tokens according to these confidence scores. You get the number of tokens `k` from the generation schedule.\n",
    "5. Sample the token indices from these `k` selected token logits. You should use the `sample_tokens` function from `utils/sampling.py`, and remember to pass the relevant sampling hyperparameters.\n",
    "6. Update the sequence and mask for the next round using the newly sampled tokens and their positions.\n",
    "7. Repeat until the end of the generation schedule, when the sequence is fully unmasked."
   ]
  },
  {
   "cell_type": "markdown",
   "id": "acd64834-6658-4cf1-a88d-aed19c61be1e",
   "metadata": {},
   "source": [
    "### 2.2 Training the model\n",
    "\n",
    "We defined a training config for you in: `cfgs/nanoMaskGIT/mnist_d8w512.yaml`. Please familiarize yourself with all parts.\n",
    "Please don't forget to replace the Weights & Bias entity with your own.\n",
    "\n",
    "On a 1xV100 node, you can start the training like:\n",
    "```\n",
    "OMP_NUM_THREADS=1 torchrun --nproc_per_node=1 run_training.py --config cfgs/nanoMaskGIT/mnist_d8w512.yaml\n",
    "```\n",
    "\n",
    "This training should be pretty fast and only take a few minutes. Because masked image models are harder to overfit, we increased the number of training steps five-fold, compared to nanoGPT. You should reach a final validation loss below 0.57, and your loss curves should look something like the following:\n",
    "\n",
    "<img src=\"./assets/nanoMaskGIT_mnist.png\" alt=\"nanoMaskGIT MNIST loss curves\" width=\"1000\">"
   ]
  },
  {
   "cell_type": "markdown",
   "id": "21a95694-bc7d-4ac5-964a-3e0a0e010d5d",
   "metadata": {},
   "source": [
    "### 2.3 Show your loss curves (10 points)\n",
    "\n",
    "Screenshot your loss curves and show them here. Add the image to the `assets` directory and change the path in the markdown. You will get 10 points for reasonable loss curves (similar to the sample loss curves above).\n",
    "\n",
    "<img src=\"./assets/maskGit_lossMN.png\" alt=\"nanoMaskGIT MNIST loss curves\" width=\"1000\">"
   ]
  },
  {
   "cell_type": "markdown",
   "id": "c7567ebf-ca13-4ad5-a16b-8e2c1df0c935",
   "metadata": {},
   "source": [
    "### 2.4 Evaluating the model (10 points)\n",
    "\n",
    "After you completed the training, load the model with the following cell. You may need to adjust the path if you changed it.\n",
    "You will get 10 points if the outputs look reasonable (similar to the sample outputs provided below).\n",
    "\n",
    "Hint: You can also load intermediate safetensors checkpoints to check the progress during training."
   ]
  },
  {
   "cell_type": "code",
   "execution_count": 3,
   "id": "3fe6e1bb-d198-4f3f-93b1-aed5cf5eb7aa",
   "metadata": {
    "execution": {
     "iopub.execute_input": "2025-04-08T12:03:57.179748Z",
     "iopub.status.busy": "2025-04-08T12:03:57.179071Z",
     "iopub.status.idle": "2025-04-08T12:03:57.861257Z",
     "shell.execute_reply": "2025-04-08T12:03:57.860768Z"
    }
   },
   "outputs": [
    {
     "name": "stdout",
     "output_type": "stream",
     "text": [
      "25.174528M parameters\n"
     ]
    }
   ],
   "source": [
    "ckpt_path = './outputs/nanoMaskGIT/mnist_d8w512/checkpoint-final.safetensors'\n",
    "model = load_model_from_safetensors(ckpt_path, device=device)\n",
    "print(f'{model.get_num_params() / 10**6}M parameters')"
   ]
  },
  {
   "cell_type": "markdown",
   "id": "f899e5d6-dd87-4c07-8f40-351c49ff3524",
   "metadata": {},
   "source": [
    "Let's plot some class-conditional generations! We seed the generation by providing the first token, whose index is equal to the number we'd like to generate.\n",
    "For that token, we initialize the mask with `False`, i.e. indicating that that token is given as input, i.e. not masked. \n",
    "The rest of the tokens are masked, and it does not matter what value they have in the `seq` tensor, as they are overwritten by the learnable mask token in the Transformer."
   ]
  },
  {
   "cell_type": "code",
   "execution_count": 4,
   "id": "0e298bb3-535f-4f70-90f4-0e8af217c0c2",
   "metadata": {
    "execution": {
     "iopub.execute_input": "2025-04-08T12:03:57.863979Z",
     "iopub.status.busy": "2025-04-08T12:03:57.863331Z",
     "iopub.status.idle": "2025-04-08T12:04:01.465809Z",
     "shell.execute_reply": "2025-04-08T12:04:01.465238Z"
    }
   },
   "outputs": [
    {
     "data": {
      "text/plain": [
       "tensor([[ 5, 10, 10, 10, 10, 10, 10, 10, 10, 10, 10, 11, 13, 18, 10, 10, 10, 10,\n",
       "         10, 10, 10, 10, 10, 10, 10, 20, 10, 10, 10, 10, 10, 10, 10, 20, 10, 10,\n",
       "         10, 10, 22, 22, 10, 10, 10, 10, 10, 10, 10, 10, 10, 10]],\n",
       "       device='cuda:0')"
      ]
     },
     "execution_count": 4,
     "metadata": {},
     "output_type": "execute_result"
    }
   ],
   "source": [
    "label = 5\n",
    "\n",
    "seq = torch.zeros(50, dtype=torch.long, device=device)\n",
    "mask = torch.ones(50, dtype=torch.bool, device=device)\n",
    "seq[0] = label\n",
    "mask[0] = False\n",
    "\n",
    "output = model.generate(seq, mask, num_steps=8, temp=1.0, top_p=0.9, return_history=False)\n",
    "output"
   ]
  },
  {
   "cell_type": "code",
   "execution_count": 5,
   "id": "7f7d1cde-f9ae-4bc8-b66f-cc6a89346721",
   "metadata": {
    "execution": {
     "iopub.execute_input": "2025-04-08T12:04:01.468581Z",
     "iopub.status.busy": "2025-04-08T12:04:01.467886Z",
     "iopub.status.idle": "2025-04-08T12:04:02.107010Z",
     "shell.execute_reply": "2025-04-08T12:04:02.106320Z"
    }
   },
   "outputs": [
    {
     "data": {
      "text/plain": [
       "<matplotlib.image.AxesImage at 0x7fa9dc653580>"
      ]
     },
     "execution_count": 5,
     "metadata": {},
     "output_type": "execute_result"
    },
    {
     "data": {
      "image/png": "[encoded data removed]",
      "text/plain": [
       "<Figure size 640x480 with 1 Axes>"
      ]
     },
     "metadata": {},
     "output_type": "display_data"
    }
   ],
   "source": [
    "reconst = detokenize_MNIST(output, patch_size=2, account_for_labels=True).cpu()\n",
    "plt.imshow(reconst[0], cmap='gray_r')"
   ]
  },
  {
   "cell_type": "markdown",
   "id": "88da2fcd-f7cc-479a-8124-c7c52f0e0332",
   "metadata": {},
   "source": [
    "Let's now generate 10 random samples for all 10 classes. Most should look quite reasonable."
   ]
  },
  {
   "cell_type": "code",
   "execution_count": 6,
   "id": "0a37a578-6b9f-4a62-bc36-bb9345c3b38c",
   "metadata": {
    "execution": {
     "iopub.execute_input": "2025-04-08T12:04:02.109747Z",
     "iopub.status.busy": "2025-04-08T12:04:02.109071Z",
     "iopub.status.idle": "2025-04-08T12:04:10.651398Z",
     "shell.execute_reply": "2025-04-08T12:04:10.650940Z"
    }
   },
   "outputs": [
    {
     "data": {
      "image/png": "[encoded data removed]",
      "text/plain": [
       "<Figure size 800x800 with 200 Axes>"
      ]
     },
     "metadata": {},
     "output_type": "display_data"
    }
   ],
   "source": [
    "def generate_samples(model, num_steps=8, temp=1.0, top_p=0.0, top_k=0.0, n_samples=10):\n",
    "    fig = plt.figure(figsize=(8., 8.))\n",
    "    grid = ImageGrid(fig, 111, nrows_ncols=(10, n_samples), axes_pad=0.1)\n",
    "    for label in range(10):\n",
    "        for sample_idx in range(n_samples):\n",
    "            grid_idx = label * n_samples + sample_idx\n",
    "            \n",
    "            seq = torch.zeros(50, dtype=torch.long, device=device)\n",
    "            mask = torch.ones(50, dtype=torch.bool, device=device)\n",
    "            seq[0] = label\n",
    "            mask[0] = False\n",
    "            output = model.generate(seq, mask, num_steps=num_steps, temp=temp, top_p=top_p, top_k=top_k, return_history=False)\n",
    "            \n",
    "            reconst = detokenize_MNIST(output, patch_size=2, account_for_labels=True).cpu()\n",
    "            grid[grid_idx].imshow(reconst[0], cmap='Greys', vmin=0, vmax=1)\n",
    "    plt.show()\n",
    "    \n",
    "generate_samples(model, num_steps=8, temp=0.7, top_p=0.9, top_k=0.0)"
   ]
  },
  {
   "cell_type": "markdown",
   "id": "c7c77608-5cb3-4f7e-9ffc-fd36aef83cdb",
   "metadata": {},
   "source": [
    "### 2.5 Open-ended questions (10 points each)\n",
    "\n",
    "Please answer the following questions. You may use additional cells to demonstrate your answers if necessary."
   ]
  },
  {
   "cell_type": "markdown",
   "id": "3c2ae3d6-ddaa-44d9-b5d8-9748a2ec3b5f",
   "metadata": {},
   "source": [
    "#### 2.5.1 Intermediate generation steps\n",
    "\n",
    "`model.generate` has an optional flag `return_history`. Show the intermediate generation steps. What do you observe?"
   ]
  },
  {
   "cell_type": "code",
   "execution_count": 7,
   "id": "d5015471-fa5b-41bc-a190-ed5930e2d0a1",
   "metadata": {
    "execution": {
     "iopub.execute_input": "2025-04-08T12:04:10.654312Z",
     "iopub.status.busy": "2025-04-08T12:04:10.653629Z",
     "iopub.status.idle": "2025-04-08T12:04:10.853814Z",
     "shell.execute_reply": "2025-04-08T12:04:10.853406Z"
    }
   },
   "outputs": [
    {
     "data": {
      "image/png": "[encoded data removed]",
      "text/plain": [
       "<Figure size 1200x150 with 2 Axes>"
      ]
     },
     "metadata": {},
     "output_type": "display_data"
    }
   ],
   "source": [
    "# Fill your answer here\n",
    "         \n",
    "def get_unmasking_steps(mask_history: torch.BoolTensor) -> torch.LongTensor:\n",
    "    \"\"\"\n",
    "    Returns a tensor of shape (seq_length,) where each value represents the step\n",
    "    at which that token was first unmasked (i.e., went from True to False).\n",
    "    \n",
    "    Args:\n",
    "        mask_history: Tensor of shape (num_steps, seq_length), with boolean values.\n",
    "                      True = still masked, False = unmasked.\n",
    "    \n",
    "    Returns:\n",
    "        Tensor of shape (seq_length,), with step indices where unmasking occurred.\n",
    "    \"\"\"\n",
    "    num_steps, seq_len = mask_history.shape\n",
    "    step_of_prediction = torch.full((seq_len,), fill_value=-1, dtype=torch.long)\n",
    "\n",
    "    for step in range(1, num_steps):  # Start from step 1 (step 0 usually all True)\n",
    "        prev_mask = mask_history[step - 1]\n",
    "        curr_mask = mask_history[step]\n",
    "        # Tokens that went from True -> False were unmasked at this step\n",
    "        newly_unmasked = (prev_mask & ~curr_mask)\n",
    "        step_of_prediction[newly_unmasked] = step\n",
    "\n",
    "    return step_of_prediction\n",
    "\n",
    "def plot_unmasking_pattern(step_of_prediction: torch.Tensor, cmap='viridis'):\n",
    "    \"\"\"\n",
    "    Visualizes the order in which each token in a sequence was unmasked.\n",
    "\n",
    "    Args:\n",
    "        step_of_prediction: Tensor of shape (seq_length,) where each value represents\n",
    "                            the step at which the token was predicted.\n",
    "        cmap: Colormap name (default 'viridis'). Try 'plasma', 'magma', or 'cool' for fun.\n",
    "    \"\"\"\n",
    "    seq_length = step_of_prediction.size(0)\n",
    "    steps = step_of_prediction.cpu().numpy()\n",
    "\n",
    "    # Custom colormap: green -> yellow -> red\n",
    "    cmap = LinearSegmentedColormap.from_list(\"green_to_red\", [\"green\", \"yellow\", \"red\"])\n",
    "\n",
    "    fig, ax = plt.subplots(figsize=(12, 1.5))\n",
    "\n",
    "    # Display color-coded strip\n",
    "    im = ax.imshow(steps[np.newaxis, :], cmap=cmap, aspect='auto')\n",
    "\n",
    "    # Remove all ticks and labels\n",
    "    ax.set_xticks([])\n",
    "    ax.set_yticks([])\n",
    "    ax.set_title(\"Unmasking steps (Green = early, Red = late)\", fontsize=12)\n",
    "\n",
    "    # Add colorbar as legend\n",
    "    cbar = plt.colorbar(im, ax=ax, orientation='horizontal')\n",
    "    cbar.set_label('Prediction Step')\n",
    "\n",
    "    plt.tight_layout()\n",
    "    plt.show()\n",
    "\n",
    "seq = torch.zeros(50, dtype=torch.long, device=device)\n",
    "mask = torch.ones(50, dtype=torch.bool, device=device)\n",
    "seq[0] = 5\n",
    "mask[0] = False\n",
    "\n",
    "seq_h,m_h = model.generate(seq, mask, num_steps=8, temp=1.0, top_p=0.9, return_history=True)\n",
    "prediction_pattern = get_unmasking_steps(m_h)\n",
    "plot_unmasking_pattern(prediction_pattern)\n",
    "#print(prediction_pattern)"
   ]
  },
  {
   "cell_type": "markdown",
   "id": "9ebafd5d",
   "metadata": {},
   "source": [
    "This graph use color to show at which prediction step was a token predicted. Even if it's not in 2D we can sees that this seems well distribued while sometime we decode some cluster which seems coherent. "
   ]
  },
  {
   "cell_type": "markdown",
   "id": "0cdb60ba-521e-43cd-9c01-c94507740fa4",
   "metadata": {},
   "source": [
    "#### 2.5.2 Number of inference steps\n",
    "\n",
    "With MaskGIT, we can freely choose the number of inference steps `k`. We default to `k=8`, but how does generation with `k` = 1, 4, 8, 16, 32, 49 perform? What do you observe?"
   ]
  },
  {
   "cell_type": "code",
   "execution_count": 8,
   "id": "ba08d6c1-4570-4d92-ade9-c59a4e8fc308",
   "metadata": {
    "execution": {
     "iopub.execute_input": "2025-04-08T12:04:10.856499Z",
     "iopub.status.busy": "2025-04-08T12:04:10.855845Z",
     "iopub.status.idle": "2025-04-08T12:04:19.202881Z",
     "shell.execute_reply": "2025-04-08T12:04:19.202189Z"
    }
   },
   "outputs": [
    {
     "data": {
      "image/png": "[encoded data removed]",
      "text/plain": [
       "<Figure size 800x800 with 120 Axes>"
      ]
     },
     "metadata": {},
     "output_type": "display_data"
    }
   ],
   "source": [
    "# Fill your answer here\n",
    "def generate_samples(model, num_steps=8, temp=1.0, top_p=0.0, top_k=0.0, n_samples=10):\n",
    "    k_l = [1,4,8,16,32,49]\n",
    "    fig = plt.figure(figsize=(8., 8.))\n",
    "    grid = ImageGrid(fig, 111, nrows_ncols=(len(k_l), n_samples), axes_pad=0.1)\n",
    "    for idx,k in enumerate(k_l):\n",
    "        for sample_idx in range(n_samples):\n",
    "            grid_idx = idx * n_samples + sample_idx\n",
    "            \n",
    "            seq = torch.zeros(50, dtype=torch.long, device=device)\n",
    "            mask = torch.ones(50, dtype=torch.bool, device=device)\n",
    "            seq[0] = 0\n",
    "            mask[0] = False\n",
    "            output = model.generate(seq, mask, num_steps=k, temp=temp, top_p=top_p, top_k=top_k, return_history=False)\n",
    "            \n",
    "            reconst = detokenize_MNIST(output, patch_size=2, account_for_labels=True).cpu()\n",
    "            grid[grid_idx].imshow(reconst[0], cmap='Greys', vmin=0, vmax=1)\n",
    "    plt.show()\n",
    "    \n",
    "generate_samples(model, num_steps=8, temp=0.7, top_p=0.9, top_k=0.0)"
   ]
  },
  {
   "cell_type": "markdown",
   "id": "4b9df773",
   "metadata": {},
   "source": [
    "As $k$ increase the output seems to be more coherent (The global image is closer to what is expected). I think it's because as $k$ increase the more step we take to generate all token, in consequence there is more time to calculate the self-attention of each pixel and thus resulting in a more coherent output.  "
   ]
  },
  {
   "cell_type": "markdown",
   "id": "f6959e3e-6682-4b9e-afd4-d20362086f58",
   "metadata": {
    "tags": []
   },
   "source": [
    "---\n",
    "\n",
    "## 3 Training nanoGPT on TinyStories\n",
    "\n",
    "Masked generation is quite common for image generation, but has seen a recent resurgence for language models too (e.g. see [LLaDA](https://ml-gsai.github.io/LLaDA-demo/)). \n",
    "Let's run a little experiment and train a masked model on TinyStories, just as we did with nanoGPT."
   ]
  },
  {
   "cell_type": "markdown",
   "id": "074f284f-4ffb-4611-98c1-302b09cd516a",
   "metadata": {},
   "source": [
    "### 3.1 Loading the tokenizer and helper functions"
   ]
  },
  {
   "cell_type": "code",
   "execution_count": 9,
   "id": "c9aa2c0e-71af-4d51-9716-9ab4ca17f459",
   "metadata": {
    "execution": {
     "iopub.execute_input": "2025-04-08T12:04:19.205719Z",
     "iopub.status.busy": "2025-04-08T12:04:19.205058Z",
     "iopub.status.idle": "2025-04-08T12:04:19.779292Z",
     "shell.execute_reply": "2025-04-08T12:04:19.778848Z"
    }
   },
   "outputs": [
    {
     "data": {
      "text/plain": [
       "GPT2TokenizerFast(name_or_path='gpt2', vocab_size=50257, model_max_length=1024, is_fast=True, padding_side='right', truncation_side='right', special_tokens={'bos_token': '[SOS]', 'eos_token': '[EOS]', 'unk_token': '<|endoftext|>', 'pad_token': '[PAD]'}, clean_up_tokenization_spaces=False, added_tokens_decoder={\n",
       "\t50256: AddedToken(\"<|endoftext|>\", rstrip=False, lstrip=False, single_word=False, normalized=True, special=True),\n",
       "\t50257: AddedToken(\"[PAD]\", rstrip=False, lstrip=False, single_word=False, normalized=False, special=True),\n",
       "\t50258: AddedToken(\"[SOS]\", rstrip=False, lstrip=False, single_word=False, normalized=False, special=True),\n",
       "\t50259: AddedToken(\"[EOS]\", rstrip=False, lstrip=False, single_word=False, normalized=False, special=True),\n",
       "}\n",
       ")"
      ]
     },
     "execution_count": 9,
     "metadata": {},
     "output_type": "execute_result"
    }
   ],
   "source": [
    "# Load the GPT-2 tokenizer\n",
    "tokenizer = AutoTokenizer.from_pretrained(\"gpt2\", trust_remote_code=True)\n",
    "\n",
    "# Add padding, start-of-sequence, and end-of-sequence tokens\n",
    "tokenizer.add_special_tokens({'pad_token': '[PAD]'})\n",
    "tokenizer.add_special_tokens({\n",
    "    'bos_token': '[SOS]',\n",
    "    'eos_token': '[EOS]',\n",
    "})\n",
    "tokenizer._tokenizer.post_processor = TemplateProcessing(\n",
    "    single=\"[SOS] $A [EOS]\",\n",
    "    special_tokens=[('[EOS]', tokenizer.eos_token_id), ('[SOS]', tokenizer.bos_token_id)],\n",
    ")\n",
    "tokenizer"
   ]
  },
  {
   "cell_type": "code",
   "execution_count": 10,
   "id": "08407185-c1f8-48fe-9bc8-5b0d35c33e30",
   "metadata": {
    "execution": {
     "iopub.execute_input": "2025-04-08T12:04:19.782025Z",
     "iopub.status.busy": "2025-04-08T12:04:19.781368Z",
     "iopub.status.idle": "2025-04-08T12:04:19.825509Z",
     "shell.execute_reply": "2025-04-08T12:04:19.825001Z"
    }
   },
   "outputs": [],
   "source": [
    "def token_ids_to_text(token_ids, text_tokenizer):\n",
    "    \"\"\" Helper function to turn token sequences back to well-formatted text. \"\"\"\n",
    "    decoded = text_tokenizer.decode(token_ids)\n",
    "    # Remove [SOS], [EOS], and [PAD] tokens along with surrounding horizontal whitespace only.\n",
    "    decoded = re.sub(r'[ \\t]*\\[(SOS|EOS|PAD)\\][ \\t]*', ' ', decoded)\n",
    "    # Collapse extra horizontal spaces in each line without touching newline characters.\n",
    "    decoded = '\\n'.join([re.sub(r'[ \\t]+', ' ', line).strip() for line in decoded.splitlines()])\n",
    "    return decoded"
   ]
  },
  {
   "cell_type": "markdown",
   "id": "846e1ee7-7805-42ca-a5f7-7a9f45dadb9e",
   "metadata": {},
   "source": [
    "### 3.2 Training the model\n",
    "\n",
    "We defined a training config for you in: `cfgs/nanoMaskGIT/tinystories_d8w512.yaml`. Please familiarize yourself with all parts.\n",
    "Please don't forget to replace the Weights & Bias entity with your own.\n",
    "\n",
    "On a 2xV100 node, you can start the training like:\n",
    "```\n",
    "OMP_NUM_THREADS=1 torchrun --nproc_per_node=2 run_training.py --config cfgs/nanoMaskGIT/tinystories_d8w512.yaml\n",
    "```\n",
    "\n",
    "This training should take over one hour. You should reach a final validation loss around 2.05, and your loss curves should look something like the following:\n",
    "\n",
    "<img src=\"./assets/nanoMaskGIT_tinystories.png\" alt=\"nanoMaskGIT TinyStories loss curves\" width=\"1000\">"
   ]
  },
  {
   "cell_type": "markdown",
   "id": "b148e772-641d-401f-8759-d470913c07a8",
   "metadata": {},
   "source": [
    "### 3.3 Show your loss curves (10 points)\n",
    "\n",
    "Screenshot your loss curves and show them here. Add the image to the `assets` directory and change the path in the markdown. You will get 10 points for reasonable loss curves (similar to the sample loss curves above).\n",
    "\n",
    "<img src=\"./assets/maskGit_lossTN.png\" alt=\"nanoMaskGIT TinyStories loss curves\" width=\"1000\">"
   ]
  },
  {
   "cell_type": "markdown",
   "id": "ae662ed8-4d89-419f-9419-72dfe1539a8b",
   "metadata": {},
   "source": [
    "### 3.4 Evaluating the model (10 points)\n",
    "\n",
    "After you completed the training, load the model with the following cell. You may need to adjust the path if you changed it.\n",
    "You will get 10 points if the outputs look reasonable (similar to the sample outputs provided below).\n",
    "\n",
    "Hint: You can also load intermediate safetensors checkpoints to check the progress during training."
   ]
  },
  {
   "cell_type": "code",
   "execution_count": 11,
   "id": "461ee865-a0a8-47d1-ac34-577a16c77fcf",
   "metadata": {
    "execution": {
     "iopub.execute_input": "2025-04-08T12:04:19.828270Z",
     "iopub.status.busy": "2025-04-08T12:04:19.827592Z",
     "iopub.status.idle": "2025-04-08T12:04:21.102901Z",
     "shell.execute_reply": "2025-04-08T12:04:21.102230Z"
    }
   },
   "outputs": [
    {
     "name": "stdout",
     "output_type": "stream",
     "text": [
      "25.174528M parameters\n"
     ]
    }
   ],
   "source": [
    "ckpt_path = './outputs/nanoMaskGIT/tinystories_d8w512/checkpoint-final.safetensors'\n",
    "model = load_model_from_safetensors(ckpt_path, device=device)\n",
    "print(f'{model.get_num_params() / 10**6}M parameters')"
   ]
  },
  {
   "cell_type": "markdown",
   "id": "14b76935-50bd-4467-b72d-30955eb516b7",
   "metadata": {},
   "source": [
    "Let's generate some random (unconditional) stories!"
   ]
  },
  {
   "cell_type": "code",
   "execution_count": 12,
   "id": "af25761c-ae44-4e67-8c77-505d6be35a9e",
   "metadata": {
    "execution": {
     "iopub.execute_input": "2025-04-08T12:04:21.105883Z",
     "iopub.status.busy": "2025-04-08T12:04:21.105211Z",
     "iopub.status.idle": "2025-04-08T12:04:24.884783Z",
     "shell.execute_reply": "2025-04-08T12:04:24.884368Z"
    }
   },
   "outputs": [
    {
     "name": "stdout",
     "output_type": "stream",
     "text": [
      "Tom upon a time there there was a boy called named Tom. Tom was very brave, but he wanted to get an to see! On his way home, he was a little scared.\n",
      "\n",
      "Tom started to cry, curious the dark of the dark. Suddenly he he heard a soundble coming from his house, and he followed the.\n",
      "house was dark or John to get scared. He\n",
      "\n",
      "Just then, there was an big house coming and the ground. Tom said, \"Please there! there is for fun!\" Suddenly\n",
      "\n",
      "He said so small to a out of \"Who knows why you need me get?\". the\n",
      "\n",
      "Tom thought with a moment, then he said, \"I want the do\",.\n",
      "opened the door and reached out door. inside was door, for a new key.\n",
      "\n",
      "Tom was so happy, he quickly out the door and grabbed the key. Now, couldn't be any fear!\n",
      "\n",
      "--------------------------------------------------\n",
      "\n"
     ]
    },
    {
     "name": "stdout",
     "output_type": "stream",
     "text": [
      "Onceummy was a warm. She was feeling very helpless. She she couldn having a bath party so she would have warm in for a. She day, she called Mummy to come in and give her a big hug.\n",
      "\n",
      "Mummy found a blanket and warm her under the blanket. Mummy gave herummy a kiss hug and kissed her.. M Mummy was happy happy she she felt free and\n",
      "\n",
      "Then M Mummy took her for a bath and to put onto her mummy's lap in and felt the she was feeling and comfortable. Mummy was so happy and helped her get get better.\n",
      "\n",
      "MMummy hugged Mummy and said, was a for the. She brushed heruggled her into and kissed drifted offnight. She was so happy when she needed. M she was so alone now, but she knew her mummy had a very special care of her and she felt so happy again. With a hug and thanked Mummy\n",
      "\n",
      "--------------------------------------------------\n",
      "\n"
     ]
    },
    {
     "name": "stdout",
     "output_type": "stream",
     "text": [
      "Once upon a time there there was a little girl named Sally. Sally was very excited to go on a walk with her mommy She was many a she was on in the green park before. the park and a trees were birds. Some trees were singing and all were singing. and Sally could and listened to each other.\n",
      "\n",
      "Once she arrived on the path, Sally wanted a snack at the park. It was very cheap and shely grabbed that one. She was very happy and she was it was her backpack.\n",
      "\n",
      "After a while minutes, Sally was ready a ride. She spent all all the long slides slides and the park, and it was time to go home. Sally thanked her mom, and lifted her backpack. She told her mom about the interesting day and promised she to come back and day .\n",
      "\n",
      "--------------------------------------------------\n",
      "\n"
     ]
    },
    {
     "name": "stdout",
     "output_type": "stream",
     "text": [
      "One upon a time in was a mess. The lecture was very hard\n",
      "\n",
      "--------------------------------------------------\n",
      "\n"
     ]
    },
    {
     "name": "stdout",
     "output_type": "stream",
     "text": [
      "Once upon a time there in a small village. Some people on each were called Will and very much. His day said goodbye to them and Will back. everyone was so impressed to see him up and show everyone what made his life nicer. It was so different and special of all. Will was his at what everyone people wanted be very\n",
      "\n",
      "He wanted to show everyone his village, so, he children liked and she to get about his and wanted of the very own. But the grown one was different and were already very sad.\n",
      "\n",
      "Will knew that everyone was not giving up the chance of. He decided to bring the another who would be a part in the village! Unfortunately, some of the children were sad, and they all went home, hugs and happiness to, no matter what he showed the others\n",
      "\n",
      "--------------------------------------------------\n",
      "\n"
     ]
    }
   ],
   "source": [
    "for _ in range(5):\n",
    "    seq = torch.zeros(256, dtype=torch.long, device=device)\n",
    "    mask = torch.ones(256, dtype=torch.bool, device=device)\n",
    "    output = model.generate(seq, mask, num_steps=128, temp=1.0, top_k=100, return_history=False)\n",
    "    print(token_ids_to_text(output[0], text_tokenizer=tokenizer))\n",
    "    print('\\n' + '-'*50 + '\\n')"
   ]
  },
  {
   "cell_type": "markdown",
   "id": "00cb8ab8-0a6b-446c-af41-acacf2c584cd",
   "metadata": {},
   "source": [
    "### 3.5 Open-ended questions (10 points each)\n",
    "\n",
    "Please answer the following questions. You may use additional cells to demonstrate your answers if necessary."
   ]
  },
  {
   "cell_type": "markdown",
   "id": "8f3c1f71-4a23-4eb9-8f06-2854fc66b480",
   "metadata": {},
   "source": [
    "#### 3.5.1 Intermediate generation steps\n",
    "\n",
    "Similar as in 2.5.1, `model.generate` has an optional flag `return_history`. Show the intermediate generation steps. What do you observe?"
   ]
  },
  {
   "cell_type": "markdown",
   "id": "861f329f",
   "metadata": {},
   "source": [
    "Using the mask history we can see at which step each token was predicted. After a short analysis I observed that we are generating sub sequence by subsequence meaning that he is generating token at index $i$ then all the way to $i+j$. he seems to start at the begining of the sequence then at the end and little by little he fill the two extremities until fully generated. The code below output a list where l[i] = time step at which token at index $i$ is predicted. This behavior seems pretty coherent since were are taking the $k$ predicted token with the biggest probabilities and it make some sens that the one with the biggest probabilities is close to already predicted token, because of self attention.  "
   ]
  },
  {
   "cell_type": "code",
   "execution_count": 13,
   "id": "04a94c1c",
   "metadata": {
    "execution": {
     "iopub.execute_input": "2025-04-08T12:04:24.887544Z",
     "iopub.status.busy": "2025-04-08T12:04:24.886872Z",
     "iopub.status.idle": "2025-04-08T12:04:25.741123Z",
     "shell.execute_reply": "2025-04-08T12:04:25.740600Z"
    }
   },
   "outputs": [
    {
     "data": {
      "image/png": "[encoded data removed]",
      "text/plain": [
       "<Figure size 1200x150 with 2 Axes>"
      ]
     },
     "metadata": {},
     "output_type": "display_data"
    }
   ],
   "source": [
    "         \n",
    "def get_unmasking_steps(mask_history: torch.BoolTensor) -> torch.LongTensor:\n",
    "    \"\"\"\n",
    "    Returns a tensor of shape (seq_length,) where each value represents the step\n",
    "    at which that token was first unmasked (i.e., went from True to False).\n",
    "    \n",
    "    Args:\n",
    "        mask_history: Tensor of shape (num_steps, seq_length), with boolean values.\n",
    "                      True = still masked, False = unmasked.\n",
    "    \n",
    "    Returns:\n",
    "        Tensor of shape (seq_length,), with step indices where unmasking occurred.\n",
    "    \"\"\"\n",
    "    num_steps, seq_len = mask_history.shape\n",
    "    step_of_prediction = torch.full((seq_len,), fill_value=-1, dtype=torch.long)\n",
    "\n",
    "    for step in range(1, num_steps):  # Start from step 1 (step 0 usually all True)\n",
    "        prev_mask = mask_history[step - 1]\n",
    "        curr_mask = mask_history[step]\n",
    "        # Tokens that went from True -> False were unmasked at this step\n",
    "        newly_unmasked = (prev_mask & ~curr_mask)\n",
    "        step_of_prediction[newly_unmasked] = step\n",
    "\n",
    "    return step_of_prediction\n",
    "\n",
    "def plot_unmasking_pattern(step_of_prediction: torch.Tensor, cmap='viridis'):\n",
    "    \"\"\"\n",
    "    Visualizes the order in which each token in a sequence was unmasked.\n",
    "\n",
    "    Args:\n",
    "        step_of_prediction: Tensor of shape (seq_length,) where each value represents\n",
    "                            the step at which the token was predicted.\n",
    "        cmap: Colormap name (default 'viridis'). Try 'plasma', 'magma', or 'cool' for fun.\n",
    "    \"\"\"\n",
    "    seq_length = step_of_prediction.size(0)\n",
    "    steps = step_of_prediction.cpu().numpy()\n",
    "\n",
    "    # Custom colormap: green -> yellow -> red\n",
    "    cmap = LinearSegmentedColormap.from_list(\"green_to_red\", [\"green\", \"yellow\", \"red\"])\n",
    "\n",
    "    fig, ax = plt.subplots(figsize=(12, 1.5))\n",
    "\n",
    "    # Display color-coded strip\n",
    "    im = ax.imshow(steps[np.newaxis, :], cmap=cmap, aspect='auto')\n",
    "\n",
    "    # Remove all ticks and labels\n",
    "    ax.set_xticks([])\n",
    "    ax.set_yticks([])\n",
    "    ax.set_title(\"Unmasking steps (Green = early, Red = late)\", fontsize=12)\n",
    "\n",
    "    # Add colorbar as legend\n",
    "    cbar = plt.colorbar(im, ax=ax, orientation='horizontal')\n",
    "    cbar.set_label('Prediction Step')\n",
    "\n",
    "    plt.tight_layout()\n",
    "    plt.show()\n",
    "\n",
    "\n",
    "seq = torch.zeros(256, dtype=torch.long, device=device)\n",
    "mask = torch.ones(256, dtype=torch.bool, device=device)\n",
    "_,mask_h = model.generate(seq, mask, num_steps=128, temp=1.0, top_k=100, return_history=True)\n",
    "prediction_pattern = get_unmasking_steps(mask_h)\n",
    "plot_unmasking_pattern(prediction_pattern)\n",
    "#print(prediction_pattern)"
   ]
  },
  {
   "cell_type": "markdown",
   "id": "ee85f348-ce6a-4cf7-8ba8-ae5ba0cacf6f",
   "metadata": {},
   "source": [
    "#### 3.5.2 Number of inference steps\n",
    "\n",
    "Similar as in 2.5.1, with MaskGIT, we can freely choose the number of inference steps `k`. We default to `k=8`, but how does generation with `k` = 1, 4, 8, 16, 32, 49 perform? What do you observe?"
   ]
  },
  {
   "cell_type": "code",
   "execution_count": 14,
   "id": "743cad67-9e6e-47fd-8a8a-e43161548927",
   "metadata": {
    "execution": {
     "iopub.execute_input": "2025-04-08T12:04:25.743654Z",
     "iopub.status.busy": "2025-04-08T12:04:25.743013Z",
     "iopub.status.idle": "2025-04-08T12:04:26.414240Z",
     "shell.execute_reply": "2025-04-08T12:04:26.413853Z"
    }
   },
   "outputs": [
    {
     "name": "stdout",
     "output_type": "stream",
     "text": [
      "Once upon a time there there was a little girl and was.... had. play,.. things. he,. was.... a her.\n",
      "it\n",
      "to.,\n",
      "the, and, and\n",
      ". to was the, and a came and. mom to\n",
      ". the the,. to.\n",
      "a. to it the., to. the the for and.. the.\n",
      "\n",
      "his,.. with the.,., \"\n",
      "..\n",
      "they.... and... ,. he. a.,\n",
      "was\n",
      "and, the.,\n",
      "so their, She they. the her. . the a and ,. .\n",
      "\n",
      "--------------------------------------------------\n",
      "\n",
      "Once upon a time, there was a. girl named Tim.. to loved going to the.. One., day day day day, her to,,, He... her wanted and\n",
      ".. to make the cake. Tim..\n",
      ".... and.,. and was. the., and and.'s the., She.... Tim and. They.. He.. to. his.. Tim to... Tim...., Tim and to the very happy. and . the and the\n",
      "\n",
      "--------------------------------------------------\n",
      "\n",
      "Once upon a a, there was a little girl. She name very special. she wanted to play her favourite game.. So sheShe got a her a. Then., a and. She played it, it. and She. She She.. was girl the. She and and. the she she and.. girl was was her game.. they and\n",
      "\n",
      "--------------------------------------------------\n",
      "\n",
      "Once upon a time, there was a little boy named Lily. She loved to play outside her toys. but day,, they were to organize a task. Lily's her mom was her a. and started to help her organize... her mom was her and and the to she... .\n",
      "\n",
      "--------------------------------------------------\n",
      "\n"
     ]
    },
    {
     "name": "stdout",
     "output_type": "stream",
     "text": [
      "Once upon a time, was was a fat cat. The cat was very happy. It day, the cat went for a walk. the cat saw the cat and by and The cat was to see and. The the it cat back to its home. The end\n",
      "\n",
      "--------------------------------------------------\n",
      "\n"
     ]
    },
    {
     "name": "stdout",
     "output_type": "stream",
     "text": [
      "Once upon a time, there was a little boy named Timmy. Timmy loved to play outside in the sunshine. One day, he found a big, cozy nest under a tree. He felt to be a to sleep the tree. So, hemy sn to his and and and and felt fell,. felt. . .\n",
      "\n",
      "--------------------------------------------------\n",
      "\n"
     ]
    }
   ],
   "source": [
    "# Fill your answer here\n",
    "kl = [1,4,8,16,32,49]\n",
    "for k in kl:\n",
    "    seq = torch.zeros(256, dtype=torch.long, device=device)\n",
    "    mask = torch.ones(256, dtype=torch.bool, device=device)\n",
    "    output = model.generate(seq, mask, num_steps=k, temp=0.5, top_k=100, return_history=False)\n",
    "    print(token_ids_to_text(output[0], text_tokenizer=tokenizer))\n",
    "    print('\\n' + '-'*50 + '\\n')"
   ]
  },
  {
   "cell_type": "markdown",
   "id": "4e873d44",
   "metadata": {},
   "source": [
    "I have the impression that as $k$ grow we get less random symbol out of nowhere like \"!\", the sentence is more lexically and syntactically correct. "
   ]
  },
  {
   "cell_type": "markdown",
   "id": "98a6b31c-2d8b-41f9-a124-70e0238daa06",
   "metadata": {},
   "source": [
    "#### 3.5.3 Comparison to autoregressive generation\n",
    "\n",
    "How would you compare these results to the ones you got from nanoGPT? What are some failure modes you observe? And what could be some benefits? Do you have any thoughs on how we can improve text generation with masked models, or should we just stick to autoregressive models?"
   ]
  },
  {
   "cell_type": "markdown",
   "id": "fd05978d-7fa1-4263-8179-ec11a46842c2",
   "metadata": {
    "execution": {
     "iopub.execute_input": "2025-04-04T09:22:30.079652Z",
     "iopub.status.busy": "2025-04-04T09:22:30.079026Z",
     "iopub.status.idle": "2025-04-04T09:22:30.121837Z",
     "shell.execute_reply": "2025-04-04T09:22:30.121388Z"
    }
   },
   "source": [
    "The sentence generated with masked generation and autoregressive generation are similar(with the same decoding scheme). The benefits are that compared to autoregressive decoding we need less inference step since we can predict multiple token in one go, so inference time is faster. The paper [Exploration of Masked and Causal Language\n",
    "Modelling for Text Generation](https://arxiv.org/pdf/2405.12630) conclude that Masked language modelling **consistently** out-perform causal language modelling. However it's important to note that they used a maximum sequence length of 512 tokens, small model (hundreds of millions of param) and the quantitave metric was n-gram based which are not good for story generation. \n",
    "\n",
    "\n",
    "The ``next-token prediction`` paradigm, while effective, does not fully capture how humans generate language. When we speak, we don’t improvise word by word. Instead, we start with a **global idea**, a semantic intention, which we then flesh out by assembling smaller, coherent parts.\n",
    "\n",
    "Take a simple question like “What did you do last weekend?” Before answering, I don’t plan each word. I first recall a few core events: Friday I rested, Saturday I had dinner with family, Sunday I walked by the lake. These **semantic blocks** form the foundation of my answer. I then organize and express them in a way that respects both local relevance (what happened on each day) and **global coherence** (a structured, meaningful response).\n",
    "\n",
    "This process mirrors **masked language modeling** more closely than left-to-right generation. Like masked modeling, our brains seem to start with a mental sketch, an outline of concepts, and then fill in the details, rather than sequentially chaining tokens.\n",
    "\n",
    "Recent work like [**Large Concept Models** (Meta, 2024)](https://ai.meta.com/research/publications/large-concept-models-language-modeling-in-a-sentence-representation-space/) highlights this idea by proposing hierarchical generation in concept space. Instead of predicting the next token, models could predict **higher-level concepts** (e.g., sentence-level meanings), which are later refined into concrete language. Masked modeling offers a natural interface for this: one could mask and generate missing **concepts** or **sentences**, progressively building a complete message.\n",
    "\n",
    "Moreover, as shown in [**On the Biology of a Large Language Model** (Anthropic, 2025)](https://transformer-circuits.pub/2025/attribution-graphs/biology.html), even current LLMs demonstrate signs of **planning**, suggesting that token-level improvisation is not how they truly operate internally. This further supports the idea that a **non-linear, masked approach** might align better with both cognitive and model-level mechanisms."
   ]
  },
  {
   "cell_type": "markdown",
   "id": "52cf37ad-3f51-443d-879f-6632cea55f5b",
   "metadata": {
    "tags": []
   },
   "source": [
    "## 4 Further reading\n",
    "\n",
    "Here is some further reading material should you want to dive deeper on masked modeling.\n",
    "\n",
    "Masked image generation:\n",
    "- [MaskGIT: Masked Generative Image Transformer](https://arxiv.org/abs/2202.04200)\n",
    "- [Muse: Text-To-Image Generation via Masked Generative Transformers](https://arxiv.org/abs/2301.00704)\n",
    "- [MAGE: MAsked Generative Encoder to Unify Representation Learning and Image Synthesis](https://arxiv.org/abs/2211.09117)\n",
    "- [Randomized Autoregressive Visual Generation](https://arxiv.org/abs/2411.00776)\n",
    "- [RandAR: Decoder-only Autoregressive Visual Generation in Random Orders](https://arxiv.org/abs/2412.01827)\n",
    "- [Autoregressive Image Generation without Vector Quantization](https://arxiv.org/abs/2406.11838)\n",
    "- [4M: Massively Multimodal Masked Modeling](https://arxiv.org/abs/2312.06647)\n",
    "\n",
    "Masked text generation:\n",
    "- [Exploring the Limits of Transfer Learning with a Unified Text-to-Text Transformer](https://arxiv.org/abs/1910.10683)\n",
    "- [Structured Denoising Diffusion Models in Discrete State-Spaces](https://arxiv.org/abs/2107.03006)\n",
    "- [Large Language Diffusion Models](https://arxiv.org/abs/2502.09992)\n",
    "\n",
    "Masked pre-training:\n",
    "- [BERT: Pre-training of Deep Bidirectional Transformers for Language Understanding](https://arxiv.org/abs/1810.04805)\n",
    "- [RoBERTa: A Robustly Optimized BERT Pretraining Approach](https://arxiv.org/abs/1907.11692)\n",
    "- [ELECTRA: Pre-training Text Encoders as Discriminators Rather Than Generators](https://arxiv.org/abs/2003.10555)\n",
    "- [Masked Autoencoders Are Scalable Vision Learners](https://arxiv.org/abs/2111.06377)\n",
    "- [BEiT: BERT Pre-Training of Image Transformers](https://arxiv.org/abs/2106.08254)\n",
    "- [BEiT v2: Masked Image Modeling with Vector-Quantized Visual Tokenizers](https://arxiv.org/abs/2208.06366)"
   ]
  },
  {
   "cell_type": "code",
   "execution_count": null,
   "id": "abb1dead-53d5-4b38-9ef3-52a7cbe47ea1",
   "metadata": {},
   "outputs": [],
   "source": []
  }
 ],
 "metadata": {
  "kernelspec": {
   "display_name": "nano4M kernel (nanofm)",
   "language": "python",
   "name": "nanofm"
  },
  "language_info": {
   "codemirror_mode": {
    "name": "ipython",
    "version": 3
   },
   "file_extension": ".py",
   "mimetype": "text/x-python",
   "name": "python",
   "nbconvert_exporter": "python",
   "pygments_lexer": "ipython3",
   "version": "3.10.16"
  }
 },
 "nbformat": 4,
 "nbformat_minor": 5
}
